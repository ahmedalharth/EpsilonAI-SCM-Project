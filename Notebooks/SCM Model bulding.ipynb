{
 "cells": [
  {
   "cell_type": "markdown",
   "metadata": {
    "toc": true
   },
   "source": [
    "<h1>Table of Contents<span class=\"tocSkip\"></span></h1>\n",
    "<div class=\"toc\"><ul class=\"toc-item\"><li><span><a href=\"#Supply-Chain-Management\" data-toc-modified-id=\"Supply-Chain-Management-1\"><span class=\"toc-item-num\">1&nbsp;&nbsp;</span><strong>Supply Chain Management</strong></a></span><ul class=\"toc-item\"><li><span><a href=\"#Objective\" data-toc-modified-id=\"Objective-1.1\"><span class=\"toc-item-num\">1.1&nbsp;&nbsp;</span>Objective</a></span></li></ul></li><li><span><a href=\"#Importing-libraries\" data-toc-modified-id=\"Importing-libraries-2\"><span class=\"toc-item-num\">2&nbsp;&nbsp;</span><strong>Importing libraries</strong></a></span></li><li><span><a href=\"#Read-the-clean-data\" data-toc-modified-id=\"Read-the-clean-data-3\"><span class=\"toc-item-num\">3&nbsp;&nbsp;</span><strong>Read the clean data</strong></a></span></li><li><span><a href=\"#Feature-Selection\" data-toc-modified-id=\"Feature-Selection-4\"><span class=\"toc-item-num\">4&nbsp;&nbsp;</span>Feature Selection</a></span><ul class=\"toc-item\"><li><span><a href=\"#Encode-the-cateogrical-features\" data-toc-modified-id=\"Encode-the-cateogrical-features-4.1\"><span class=\"toc-item-num\">4.1&nbsp;&nbsp;</span>Encode the cateogrical features</a></span></li><li><span><a href=\"#RFE-for-feature-selection\" data-toc-modified-id=\"RFE-for-feature-selection-4.2\"><span class=\"toc-item-num\">4.2&nbsp;&nbsp;</span>RFE for feature selection</a></span></li></ul></li><li><span><a href=\"#Modeling\" data-toc-modified-id=\"Modeling-5\"><span class=\"toc-item-num\">5&nbsp;&nbsp;</span>Modeling</a></span><ul class=\"toc-item\"><li><span><a href=\"#Linear-Regression-model\" data-toc-modified-id=\"Linear-Regression-model-5.1\"><span class=\"toc-item-num\">5.1&nbsp;&nbsp;</span>Linear Regression model</a></span><ul class=\"toc-item\"><li><span><a href=\"#Evaluate-the-model\" data-toc-modified-id=\"Evaluate-the-model-5.1.1\"><span class=\"toc-item-num\">5.1.1&nbsp;&nbsp;</span>Evaluate the model</a></span></li><li><span><a href=\"#Plot-The-true-vs-predicted-values\" data-toc-modified-id=\"Plot-The-true-vs-predicted-values-5.1.2\"><span class=\"toc-item-num\">5.1.2&nbsp;&nbsp;</span>Plot The true vs predicted values</a></span></li></ul></li><li><span><a href=\"#Xgboost-model\" data-toc-modified-id=\"Xgboost-model-5.2\"><span class=\"toc-item-num\">5.2&nbsp;&nbsp;</span>Xgboost model</a></span><ul class=\"toc-item\"><li><span><a href=\"#Training\" data-toc-modified-id=\"Training-5.2.1\"><span class=\"toc-item-num\">5.2.1&nbsp;&nbsp;</span>Training</a></span></li><li><span><a href=\"#Tuning-the-model\" data-toc-modified-id=\"Tuning-the-model-5.2.2\"><span class=\"toc-item-num\">5.2.2&nbsp;&nbsp;</span>Tuning the model</a></span></li><li><span><a href=\"#Evaluate-the-model\" data-toc-modified-id=\"Evaluate-the-model-5.2.3\"><span class=\"toc-item-num\">5.2.3&nbsp;&nbsp;</span>Evaluate the model</a></span></li><li><span><a href=\"#Plot-The-true-vs-predicted-values\" data-toc-modified-id=\"Plot-The-true-vs-predicted-values-5.2.4\"><span class=\"toc-item-num\">5.2.4&nbsp;&nbsp;</span>Plot The true vs predicted values</a></span></li><li><span><a href=\"#Save-the-Xgbost-model\" data-toc-modified-id=\"Save-the-Xgbost-model-5.2.5\"><span class=\"toc-item-num\">5.2.5&nbsp;&nbsp;</span>Save the Xgbost model</a></span></li></ul></li></ul></li></ul></div>"
   ]
  },
  {
   "cell_type": "markdown",
   "metadata": {},
   "source": [
    "# **Supply Chain Management**\n",
    "\n",
    "**Predictive Analytics for Sustainable Supply Chain Management Using Machine Learning**\n",
    "\n"
   ]
  },
  {
   "cell_type": "markdown",
   "metadata": {},
   "source": [
    "## Objective\n",
    "The primary objective of this project is to develop a machine learning model that predicts the **Supply Chain Risk (%)** of companies based on their supply chain management (SCM) practices, technology utilization, and sustainability efforts. By accurately forecasting Supply Chain Risk ratio, the model will help companies optimize their supply chain operations, reduce costs, and enhance overall performance.\n",
    "\n",
    "**Develop a Predictive Model for Supply Chain Risk**\n",
    "* `Use machine learning algorithms to predict the Supply Chain Risk ratio based on variables like Agile SCM, Lean Manufacturing, Supplier Count, Recycling Rate, and Use of Renewable Energy.`"
   ]
  },
  {
   "cell_type": "markdown",
   "metadata": {},
   "source": [
    "# **Importing libraries**"
   ]
  },
  {
   "cell_type": "code",
   "execution_count": 1,
   "metadata": {
    "_cell_guid": "b1076dfc-b9ad-4769-8c92-a6c4dae69d19",
    "_uuid": "8f2839f25d086af736a60e9eeb907d3b93b6e0e5",
    "execution": {
     "iopub.execute_input": "2024-08-26T18:50:33.663794Z",
     "iopub.status.busy": "2024-08-26T18:50:33.663256Z",
     "iopub.status.idle": "2024-08-26T18:50:33.682603Z",
     "shell.execute_reply": "2024-08-26T18:50:33.681372Z",
     "shell.execute_reply.started": "2024-08-26T18:50:33.663743Z"
    }
   },
   "outputs": [],
   "source": [
    "import numpy as np\n",
    "import pandas as pd\n",
    "import seaborn as sns\n",
    "import plotly.express as px\n",
    "import matplotlib.pyplot as plt\n",
    "import pingouin as pg\n",
    "pd.plotting.register_matplotlib_converters()\n",
    "%matplotlib inline\n",
    "from IPython. display import display\n",
    "from itertools import combinations\n",
    "from collections import Counter\n",
    "\n",
    "\n",
    "# pre_preprocessing\n",
    "from sklearn.compose import ColumnTransformer\n",
    "from sklearn.compose import make_column_transformer\n",
    "from sklearn.preprocessing import OneHotEncoder, LabelEncoder , StandardScaler , MinMaxScaler,PolynomialFeatures,RobustScaler\n",
    "\n",
    "import sklearn.feature_selection\n",
    "\n",
    "\n",
    "# Resampling\n",
    "from imblearn.over_sampling import RandomOverSampler\n",
    "from imblearn.under_sampling import RandomUnderSampler\n",
    "\n",
    "# Valdiation\n",
    "from sklearn.model_selection import StratifiedShuffleSplit , StratifiedKFold , GroupKFold\n",
    "from sklearn.model_selection import train_test_split\n",
    "from sklearn.model_selection import KFold\n",
    "from sklearn.model_selection import GridSearchCV\n",
    "\n",
    "# Modeling\n",
    "from sklearn.decomposition import PCA\n",
    "from sklearn.pipeline import Pipeline\n",
    "from sklearn.linear_model import LinearRegression \n",
    "from sklearn.tree import DecisionTreeRegressor\n",
    "from sklearn.ensemble import RandomForestRegressor\n",
    "from xgboost import XGBRegressor\n",
    "from lightgbm import LGBMRegressor\n",
    "\n",
    "\n",
    "# Metrics\n",
    "from sklearn.model_selection import cross_val_score \n",
    "from sklearn.metrics import r2_score , median_absolute_error , mean_squared_error\n",
    "\n",
    "import warnings\n",
    "warnings.filterwarnings('ignore')\n",
    "\n",
    "#display all column of df \n",
    "pd.set_option('display.max_columns', None)\n",
    "pd.set_option('display.max_rows', None) \n",
    "# to format the scientific presntastion of numbers \n",
    "pd.options.display.float_format = '{:.2f}'.format \n"
   ]
  },
  {
   "cell_type": "markdown",
   "metadata": {},
   "source": [
    "# **Read the clean data**"
   ]
  },
  {
   "cell_type": "code",
   "execution_count": 3,
   "metadata": {
    "execution": {
     "iopub.execute_input": "2024-08-26T18:50:33.685979Z",
     "iopub.status.busy": "2024-08-26T18:50:33.685090Z",
     "iopub.status.idle": "2024-08-26T18:50:34.333247Z",
     "shell.execute_reply": "2024-08-26T18:50:34.332219Z",
     "shell.execute_reply.started": "2024-08-26T18:50:33.685934Z"
    }
   },
   "outputs": [],
   "source": [
    "# read the data\n",
    "Clean_data = pd.read_csv(\"/Users/admin/Data science/Data science EpsilonAI/EpsilonAI-course-ML/Final Project/SCM/Data/Clean_df.csv\")\n",
    "train = pd.read_csv(\"/Users/admin/Data science/Data science EpsilonAI/EpsilonAI-course-ML/Final Project/SCM/Data/Train.csv\")\n",
    "test = pd.read_csv(\"/Users/admin/Data science/Data science EpsilonAI/EpsilonAI-course-ML/Final Project/SCM/Data/Test.csv\")"
   ]
  },
  {
   "cell_type": "code",
   "execution_count": 4,
   "metadata": {
    "execution": {
     "iopub.execute_input": "2024-08-26T18:50:34.334721Z",
     "iopub.status.busy": "2024-08-26T18:50:34.334349Z",
     "iopub.status.idle": "2024-08-26T18:50:34.368789Z",
     "shell.execute_reply": "2024-08-26T18:50:34.366863Z",
     "shell.execute_reply.started": "2024-08-26T18:50:34.334689Z"
    }
   },
   "outputs": [
    {
     "data": {
      "text/plain": [
       "((150776, 25), (105543, 25), (45233, 25))"
      ]
     },
     "execution_count": 4,
     "metadata": {},
     "output_type": "execute_result"
    }
   ],
   "source": [
    "Clean_data.shape , train.shape , test.shape"
   ]
  },
  {
   "cell_type": "code",
   "execution_count": 5,
   "metadata": {
    "execution": {
     "iopub.execute_input": "2024-08-26T18:50:34.371073Z",
     "iopub.status.busy": "2024-08-26T18:50:34.370563Z",
     "iopub.status.idle": "2024-08-26T18:50:34.376664Z",
     "shell.execute_reply": "2024-08-26T18:50:34.375383Z",
     "shell.execute_reply.started": "2024-08-26T18:50:34.371030Z"
    }
   },
   "outputs": [],
   "source": [
    "# Our Target variable\n",
    "Target = \"Supply Chain Risk (%)\""
   ]
  },
  {
   "cell_type": "code",
   "execution_count": 6,
   "metadata": {},
   "outputs": [
    {
     "data": {
      "text/html": [
       "<div>\n",
       "<style scoped>\n",
       "    .dataframe tbody tr th:only-of-type {\n",
       "        vertical-align: middle;\n",
       "    }\n",
       "\n",
       "    .dataframe tbody tr th {\n",
       "        vertical-align: top;\n",
       "    }\n",
       "\n",
       "    .dataframe thead th {\n",
       "        text-align: right;\n",
       "    }\n",
       "</style>\n",
       "<table border=\"1\" class=\"dataframe\">\n",
       "  <thead>\n",
       "    <tr style=\"text-align: right;\">\n",
       "      <th></th>\n",
       "      <th>SCM Practices</th>\n",
       "      <th>Technology Utilized</th>\n",
       "      <th>Supply Chain Agility</th>\n",
       "      <th>Supply Chain Integration Level</th>\n",
       "      <th>Supply Chain Complexity Index</th>\n",
       "      <th>Supplier Collaboration Level</th>\n",
       "      <th>Supplier Count</th>\n",
       "      <th>Inventory Turnover Ratio</th>\n",
       "      <th>Lead Time (days)</th>\n",
       "      <th>Order Fulfillment Rate (%)</th>\n",
       "      <th>Customer Satisfaction (%)</th>\n",
       "      <th>Supplier Lead Time Variability (days)</th>\n",
       "      <th>Inventory Accuracy (%)</th>\n",
       "      <th>Transportation Cost Efficiency (%)</th>\n",
       "      <th>Cost of Goods Sold (COGS)</th>\n",
       "      <th>Operational Efficiency Score</th>\n",
       "      <th>Revenue Growth Rate out of (15)</th>\n",
       "      <th>Supply Chain Risk (%)</th>\n",
       "      <th>Supply Chain Resilience Score</th>\n",
       "      <th>Supplier Relationship Score</th>\n",
       "      <th>Total Implementation Cost</th>\n",
       "      <th>Carbon Emissions (kg CO2e)</th>\n",
       "      <th>Recycling Rate (%)</th>\n",
       "      <th>Use of Renewable Energy (%)</th>\n",
       "      <th>Green Packaging Usage (%)</th>\n",
       "    </tr>\n",
       "  </thead>\n",
       "  <tbody>\n",
       "    <tr>\n",
       "      <th>0</th>\n",
       "      <td>Vendor Managed Inventory</td>\n",
       "      <td>AI, ERP, Robotics</td>\n",
       "      <td>Medium</td>\n",
       "      <td>Medium</td>\n",
       "      <td>Medium</td>\n",
       "      <td>High</td>\n",
       "      <td>3630.11</td>\n",
       "      <td>7.88</td>\n",
       "      <td>8.90</td>\n",
       "      <td>91.14</td>\n",
       "      <td>90.02</td>\n",
       "      <td>3.37</td>\n",
       "      <td>97.82</td>\n",
       "      <td>80.00</td>\n",
       "      <td>782.15</td>\n",
       "      <td>83.62</td>\n",
       "      <td>9.40</td>\n",
       "      <td>10.14</td>\n",
       "      <td>85.80</td>\n",
       "      <td>82.00</td>\n",
       "      <td>54233964.13</td>\n",
       "      <td>597126.98</td>\n",
       "      <td>65.94</td>\n",
       "      <td>52.40</td>\n",
       "      <td>43.80</td>\n",
       "    </tr>\n",
       "    <tr>\n",
       "      <th>1</th>\n",
       "      <td>Agile SCM</td>\n",
       "      <td>AI, ERP, Robotics</td>\n",
       "      <td>High</td>\n",
       "      <td>Medium</td>\n",
       "      <td>High</td>\n",
       "      <td>Medium</td>\n",
       "      <td>125.01</td>\n",
       "      <td>11.53</td>\n",
       "      <td>11.09</td>\n",
       "      <td>94.23</td>\n",
       "      <td>92.82</td>\n",
       "      <td>3.22</td>\n",
       "      <td>98.11</td>\n",
       "      <td>80.00</td>\n",
       "      <td>1324.74</td>\n",
       "      <td>83.20</td>\n",
       "      <td>10.90</td>\n",
       "      <td>7.39</td>\n",
       "      <td>89.60</td>\n",
       "      <td>88.00</td>\n",
       "      <td>51394922.31</td>\n",
       "      <td>1105567.09</td>\n",
       "      <td>60.85</td>\n",
       "      <td>64.30</td>\n",
       "      <td>51.14</td>\n",
       "    </tr>\n",
       "    <tr>\n",
       "      <th>2</th>\n",
       "      <td>Just-In-Time</td>\n",
       "      <td>AI, Blockchain, ERP</td>\n",
       "      <td>Medium</td>\n",
       "      <td>High</td>\n",
       "      <td>Medium</td>\n",
       "      <td>High</td>\n",
       "      <td>88265.38</td>\n",
       "      <td>5.13</td>\n",
       "      <td>13.13</td>\n",
       "      <td>92.51</td>\n",
       "      <td>90.69</td>\n",
       "      <td>3.58</td>\n",
       "      <td>97.56</td>\n",
       "      <td>80.00</td>\n",
       "      <td>745.44</td>\n",
       "      <td>87.22</td>\n",
       "      <td>9.80</td>\n",
       "      <td>8.04</td>\n",
       "      <td>88.90</td>\n",
       "      <td>86.30</td>\n",
       "      <td>24827346.81</td>\n",
       "      <td>926310.03</td>\n",
       "      <td>60.00</td>\n",
       "      <td>64.00</td>\n",
       "      <td>49.78</td>\n",
       "    </tr>\n",
       "    <tr>\n",
       "      <th>3</th>\n",
       "      <td>Vendor Managed Inventory</td>\n",
       "      <td>AI, Blockchain, ERP</td>\n",
       "      <td>High</td>\n",
       "      <td>High</td>\n",
       "      <td>High</td>\n",
       "      <td>High</td>\n",
       "      <td>15718.04</td>\n",
       "      <td>7.39</td>\n",
       "      <td>13.65</td>\n",
       "      <td>90.75</td>\n",
       "      <td>92.16</td>\n",
       "      <td>3.63</td>\n",
       "      <td>97.37</td>\n",
       "      <td>80.00</td>\n",
       "      <td>1011.04</td>\n",
       "      <td>86.21</td>\n",
       "      <td>9.20</td>\n",
       "      <td>10.25</td>\n",
       "      <td>87.50</td>\n",
       "      <td>85.00</td>\n",
       "      <td>93925753.98</td>\n",
       "      <td>136242.40</td>\n",
       "      <td>69.15</td>\n",
       "      <td>59.00</td>\n",
       "      <td>40.11</td>\n",
       "    </tr>\n",
       "    <tr>\n",
       "      <th>4</th>\n",
       "      <td>Vendor Managed Inventory</td>\n",
       "      <td>ERP, JIT, Robotics</td>\n",
       "      <td>High</td>\n",
       "      <td>High</td>\n",
       "      <td>Low</td>\n",
       "      <td>High</td>\n",
       "      <td>125.00</td>\n",
       "      <td>11.12</td>\n",
       "      <td>13.91</td>\n",
       "      <td>88.76</td>\n",
       "      <td>90.46</td>\n",
       "      <td>4.49</td>\n",
       "      <td>98.14</td>\n",
       "      <td>80.00</td>\n",
       "      <td>504.77</td>\n",
       "      <td>83.83</td>\n",
       "      <td>9.20</td>\n",
       "      <td>11.54</td>\n",
       "      <td>86.00</td>\n",
       "      <td>82.60</td>\n",
       "      <td>88667015.23</td>\n",
       "      <td>183595.16</td>\n",
       "      <td>63.79</td>\n",
       "      <td>50.50</td>\n",
       "      <td>54.35</td>\n",
       "    </tr>\n",
       "  </tbody>\n",
       "</table>\n",
       "</div>"
      ],
      "text/plain": [
       "              SCM Practices  Technology Utilized Supply Chain Agility  \\\n",
       "0  Vendor Managed Inventory    AI, ERP, Robotics               Medium   \n",
       "1                 Agile SCM    AI, ERP, Robotics                 High   \n",
       "2              Just-In-Time  AI, Blockchain, ERP               Medium   \n",
       "3  Vendor Managed Inventory  AI, Blockchain, ERP                 High   \n",
       "4  Vendor Managed Inventory   ERP, JIT, Robotics                 High   \n",
       "\n",
       "  Supply Chain Integration Level Supply Chain Complexity Index  \\\n",
       "0                         Medium                        Medium   \n",
       "1                         Medium                          High   \n",
       "2                           High                        Medium   \n",
       "3                           High                          High   \n",
       "4                           High                           Low   \n",
       "\n",
       "  Supplier Collaboration Level  Supplier Count  Inventory Turnover Ratio  \\\n",
       "0                         High         3630.11                      7.88   \n",
       "1                       Medium          125.01                     11.53   \n",
       "2                         High        88265.38                      5.13   \n",
       "3                         High        15718.04                      7.39   \n",
       "4                         High          125.00                     11.12   \n",
       "\n",
       "   Lead Time (days)  Order Fulfillment Rate (%)  Customer Satisfaction (%)  \\\n",
       "0              8.90                       91.14                      90.02   \n",
       "1             11.09                       94.23                      92.82   \n",
       "2             13.13                       92.51                      90.69   \n",
       "3             13.65                       90.75                      92.16   \n",
       "4             13.91                       88.76                      90.46   \n",
       "\n",
       "   Supplier Lead Time Variability (days)  Inventory Accuracy (%)  \\\n",
       "0                                   3.37                   97.82   \n",
       "1                                   3.22                   98.11   \n",
       "2                                   3.58                   97.56   \n",
       "3                                   3.63                   97.37   \n",
       "4                                   4.49                   98.14   \n",
       "\n",
       "   Transportation Cost Efficiency (%)  Cost of Goods Sold (COGS)  \\\n",
       "0                               80.00                     782.15   \n",
       "1                               80.00                    1324.74   \n",
       "2                               80.00                     745.44   \n",
       "3                               80.00                    1011.04   \n",
       "4                               80.00                     504.77   \n",
       "\n",
       "   Operational Efficiency Score  Revenue Growth Rate out of (15)  \\\n",
       "0                         83.62                             9.40   \n",
       "1                         83.20                            10.90   \n",
       "2                         87.22                             9.80   \n",
       "3                         86.21                             9.20   \n",
       "4                         83.83                             9.20   \n",
       "\n",
       "   Supply Chain Risk (%)  Supply Chain Resilience Score  \\\n",
       "0                  10.14                          85.80   \n",
       "1                   7.39                          89.60   \n",
       "2                   8.04                          88.90   \n",
       "3                  10.25                          87.50   \n",
       "4                  11.54                          86.00   \n",
       "\n",
       "   Supplier Relationship Score  Total Implementation Cost  \\\n",
       "0                        82.00                54233964.13   \n",
       "1                        88.00                51394922.31   \n",
       "2                        86.30                24827346.81   \n",
       "3                        85.00                93925753.98   \n",
       "4                        82.60                88667015.23   \n",
       "\n",
       "   Carbon Emissions (kg CO2e)  Recycling Rate (%)  \\\n",
       "0                   597126.98               65.94   \n",
       "1                  1105567.09               60.85   \n",
       "2                   926310.03               60.00   \n",
       "3                   136242.40               69.15   \n",
       "4                   183595.16               63.79   \n",
       "\n",
       "   Use of Renewable Energy (%)  Green Packaging Usage (%)  \n",
       "0                        52.40                      43.80  \n",
       "1                        64.30                      51.14  \n",
       "2                        64.00                      49.78  \n",
       "3                        59.00                      40.11  \n",
       "4                        50.50                      54.35  "
      ]
     },
     "execution_count": 6,
     "metadata": {},
     "output_type": "execute_result"
    }
   ],
   "source": [
    "train.head()"
   ]
  },
  {
   "cell_type": "code",
   "execution_count": 7,
   "metadata": {},
   "outputs": [
    {
     "data": {
      "text/plain": [
       "Supplier Count                          -0.05\n",
       "Inventory Turnover Ratio                -0.07\n",
       "Lead Time (days)                         0.85\n",
       "Order Fulfillment Rate (%)              -0.85\n",
       "Customer Satisfaction (%)               -0.11\n",
       "Supplier Lead Time Variability (days)    0.82\n",
       "Inventory Accuracy (%)                  -0.17\n",
       "Transportation Cost Efficiency (%)      -0.01\n",
       "Cost of Goods Sold (COGS)               -0.34\n",
       "Operational Efficiency Score            -0.25\n",
       "Revenue Growth Rate out of (15)         -0.53\n",
       "Supply Chain Risk (%)                    1.00\n",
       "Supply Chain Resilience Score           -0.87\n",
       "Supplier Relationship Score             -0.75\n",
       "Total Implementation Cost               -0.02\n",
       "Carbon Emissions (kg CO2e)               0.01\n",
       "Recycling Rate (%)                      -0.01\n",
       "Use of Renewable Energy (%)             -0.00\n",
       "Green Packaging Usage (%)                0.01\n",
       "dtype: float64"
      ]
     },
     "execution_count": 7,
     "metadata": {},
     "output_type": "execute_result"
    }
   ],
   "source": [
    "num = list(train.select_dtypes(exclude=\"O\").columns)\n",
    "cat = list(train.select_dtypes(include=\"O\").columns)\n",
    "train[num].corrwith(train[Target])"
   ]
  },
  {
   "cell_type": "markdown",
   "metadata": {},
   "source": [
    "# Feature Selection"
   ]
  },
  {
   "cell_type": "markdown",
   "metadata": {},
   "source": [
    "## Encode the cateogrical features"
   ]
  },
  {
   "cell_type": "code",
   "execution_count": 8,
   "metadata": {},
   "outputs": [],
   "source": [
    "le = LabelEncoder()\n",
    "df = pd.concat([train, test])\n",
    "for f in cat:\n",
    "    le.fit(df[f])\n",
    "    train[f] = le.transform(train[f])\n",
    "    test[f] = le.transform(test[f]) \n",
    "    \n",
    "    \n",
    "X = train.drop(Target , axis=1)\n",
    "y = train[Target]"
   ]
  },
  {
   "cell_type": "code",
   "execution_count": 20,
   "metadata": {},
   "outputs": [],
   "source": [
    "import pickle\n",
    "\n",
    "# Create LabelEncoders for categorical features\n",
    "label_encoders = {\n",
    "    'Technology Utilized': LabelEncoder(),\n",
    "    'Supply Chain Integration Level': LabelEncoder(),\n",
    "    'Supplier Collaboration Level': LabelEncoder()\n",
    "}\n",
    "\n",
    "# Fit the LabelEncoders with your training data\n",
    "label_encoders['Technology Utilized'].fit(train['Technology Utilized'])\n",
    "label_encoders['Supply Chain Integration Level'].fit(train['Supply Chain Integration Level'])\n",
    "label_encoders['Supplier Collaboration Level'].fit(train['Supplier Collaboration Level'])\n",
    "\n",
    "# Save the encoders\n",
    "with open('label_encoders.pkl', 'wb') as file:\n",
    "    pickle.dump(label_encoders, file)"
   ]
  },
  {
   "cell_type": "markdown",
   "metadata": {},
   "source": [
    "## RFE for feature selection"
   ]
  },
  {
   "cell_type": "code",
   "execution_count": 9,
   "metadata": {},
   "outputs": [
    {
     "name": "stdout",
     "output_type": "stream",
     "text": [
      "Selected features for XGBOOST model:\n",
      " ['Technology Utilized', 'Supply Chain Integration Level', 'Supplier Collaboration Level', 'Lead Time (days)', 'Order Fulfillment Rate (%)', 'Supplier Lead Time Variability (days)', 'Inventory Accuracy (%)', 'Transportation Cost Efficiency (%)', 'Cost of Goods Sold (COGS)', 'Operational Efficiency Score', 'Revenue Growth Rate out of (15)', 'Supply Chain Resilience Score', 'Supplier Relationship Score', 'Recycling Rate (%)', 'Use of Renewable Energy (%)']\n",
      "Selected features for LEINEAR REGESSION:\n",
      " ['Supply Chain Agility', 'Supply Chain Integration Level', 'Supplier Collaboration Level', 'Lead Time (days)', 'Order Fulfillment Rate (%)', 'Supplier Lead Time Variability (days)', 'Inventory Accuracy (%)', 'Revenue Growth Rate out of (15)', 'Supply Chain Resilience Score', 'Supplier Relationship Score']\n"
     ]
    }
   ],
   "source": [
    "from sklearn.feature_selection import RFE\n",
    "\n",
    "model1 = XGBRegressor(random_state=42)\n",
    "model2 = LinearRegression()\n",
    "\n",
    "X = train.drop(Target, axis=1)\n",
    "y = train[Target]\n",
    "# Initialize RFE with the model and select the top 15 features\n",
    "\n",
    "selector_xgb = RFE(model1, n_features_to_select=15, step=1)\n",
    "selector_xgb = selector_xgb.fit(X, y)\n",
    "\n",
    "selector_lr = RFE(model2, n_features_to_select= 10, step=1)\n",
    "selector_lr = selector_lr.fit(X, y)\n",
    "# Print the selected features\n",
    "# Get the boolean mask indicating selected features\n",
    "selected_mask1 = selector_xgb.support_\n",
    "selected_mask2 = selector_lr.support_\n",
    "\n",
    "\n",
    "# Use the mask to filter the column names from the DataFrame\n",
    "selected_features_xgb = X.columns[selected_mask1].tolist()\n",
    "selected_features_lr = X.columns[selected_mask2].tolist()\n",
    "\n",
    "\n",
    "print(\"Selected features for XGBOOST model:\\n\", selected_features_xgb)\n",
    "print(\"Selected features for LEINEAR REGESSION:\\n\", selected_features_lr)"
   ]
  },
  {
   "cell_type": "markdown",
   "metadata": {},
   "source": [
    "# Modeling"
   ]
  },
  {
   "cell_type": "markdown",
   "metadata": {},
   "source": [
    "## Linear Regression model"
   ]
  },
  {
   "cell_type": "code",
   "execution_count": 10,
   "metadata": {},
   "outputs": [
    {
     "name": "stdout",
     "output_type": "stream",
     "text": [
      "Fold 1\n",
      "train mean squar error => 0.63540\n",
      "validation mean squar error => 0.64619\n",
      "____________________\n",
      "Fold 2\n",
      "train mean squar error => 0.63732\n",
      "validation mean squar error => 0.63478\n",
      "____________________\n",
      "Fold 3\n",
      "train mean squar error => 0.63746\n",
      "validation mean squar error => 0.63407\n",
      "____________________\n",
      "Fold 4\n",
      "train mean squar error => 0.63828\n",
      "validation mean squar error => 0.62882\n",
      "____________________\n",
      "Fold 5\n",
      "train mean squar error => 0.63537\n",
      "validation mean squar error => 0.64658\n",
      "____________________\n",
      "Fold 6\n",
      "train mean squar error => 0.63706\n",
      "validation mean squar error => 0.63659\n",
      "____________________\n",
      "Fold 7\n",
      "train mean squar error => 0.63434\n",
      "validation mean squar error => 0.65265\n",
      "____________________\n",
      "Mean Train score :0.91117\n",
      "Mean validation score :0.91067\n"
     ]
    }
   ],
   "source": [
    "X_lr = train[selected_features_lr]\n",
    "y_lr = train[Target]\n",
    "\n",
    "num_lr = list(X_lr.select_dtypes(exclude=\"O\").columns)\n",
    "cat_lr = list(X_lr.select_dtypes(include=\"O\").columns)\n",
    "\n",
    "# Model\n",
    "lr = LinearRegression()\n",
    "\n",
    "\n",
    "\n",
    "# Pipline for the model\n",
    "\n",
    "preprocessor1 = ColumnTransformer(\n",
    "    transformers=[\n",
    "        ('scale', StandardScaler(),cat_lr+num_lr),\n",
    "        ('poly', PolynomialFeatures(degree=3),num_lr)])\n",
    "  \n",
    "        \n",
    "pipeline1 = Pipeline(steps=[(\"preprocessor1\", preprocessor1)\n",
    "                            ,('model', lr)])\n",
    "train_scores =[]\n",
    "val_scores = []\n",
    "\n",
    "num_splits = 7\n",
    "\n",
    "kf = KFold(n_splits= num_splits, shuffle=True, random_state=41)\n",
    "\n",
    "for fold, (train_index, val_index) in enumerate(kf.split(X_lr,y_lr)):\n",
    "\n",
    "    print(f\"Fold {fold +1}\")\n",
    "\n",
    "    X_train , y_train = X.iloc[train_index], y.iloc[train_index]\n",
    "    X_val , y_val = X.iloc[val_index], y.iloc[val_index]\n",
    "\n",
    "    pipeline1.fit(X_train,y_train)\n",
    "\n",
    "    train_pred = pipeline1.predict(X_train)\n",
    "    \n",
    "    train_scores.append(r2_score(y_train, train_pred))\n",
    "    print(f\"train mean squar error => {mean_squared_error(y_train,train_pred):.5f}\")\n",
    "\n",
    "    val_pred = pipeline1.predict(X_val)\n",
    "    val_scores.append(r2_score(y_val, val_pred))\n",
    "\n",
    "    print(f\"validation mean squar error => {mean_squared_error(y_val ,val_pred):.5f}\")\n",
    "    print(\"_\"*20)\n",
    "    \n",
    "print(f\"Mean Train score :{np.mean(train_scores):.5f}\")\n",
    "print(f\"Mean validation score :{np.mean(val_scores):.5f}\")\n",
    "\n"
   ]
  },
  {
   "cell_type": "markdown",
   "metadata": {},
   "source": [
    "### Evaluate the model"
   ]
  },
  {
   "cell_type": "code",
   "execution_count": 11,
   "metadata": {},
   "outputs": [
    {
     "name": "stdout",
     "output_type": "stream",
     "text": [
      "Test mean squar error => 0.63461\n",
      "Test R2_Score 0.9118776209224136\n"
     ]
    }
   ],
   "source": [
    "X_testlr = test[selected_features_lr]\n",
    "y_testlr = test[Target]\n",
    "\n",
    "test_pred = pipeline1.predict(X_testlr)\n",
    "\n",
    "print(f\"Test mean squar error => {mean_squared_error(y_testlr,test_pred):.5f}\")\n",
    "print(\"Test R2_Score\", r2_score(y_testlr, test_pred))"
   ]
  },
  {
   "cell_type": "markdown",
   "metadata": {},
   "source": [
    "### Plot The true vs predicted values"
   ]
  },
  {
   "cell_type": "code",
   "execution_count": 12,
   "metadata": {},
   "outputs": [
    {
     "data": {
      "image/png": "[encoded data removed]",
      "text/plain": [
       "<Figure size 640x480 with 1 Axes>"
      ]
     },
     "metadata": {},
     "output_type": "display_data"
    }
   ],
   "source": [
    "true_values = y_testlr\n",
    "predicted_values = test_pred\n",
    "plt.scatter(true_values, predicted_values, color='blue', label='Predicted vs True')\n",
    "\n",
    "# Add a reference line (y = x) to see how close predictions are to actual values\n",
    "plt.plot([min(true_values), max(true_values)], [min(true_values), max(true_values)], color='red', linestyle='--', label='Perfect Prediction (y=x)')\n",
    "\n",
    "# Add labels and title\n",
    "plt.xlabel('True Values')\n",
    "plt.ylabel('Predicted Values')\n",
    "plt.title('True vs Predicted Values')\n",
    "plt.legend()\n",
    "\n",
    "# Show the plot\n",
    "plt.show()"
   ]
  },
  {
   "cell_type": "markdown",
   "metadata": {},
   "source": [
    "## Xgboost model"
   ]
  },
  {
   "cell_type": "markdown",
   "metadata": {},
   "source": [
    "### Tuning the model"
   ]
  },
  {
   "cell_type": "code",
   "execution_count": 14,
   "metadata": {},
   "outputs": [],
   "source": [
    "X_xgb = train[selected_features_xgb]\n",
    "y_xgb = train[Target]\n",
    "\n",
    "X_xgb.drop(['Cost of Goods Sold (COGS)','Supplier Collaboration Level',\n",
    "            'Transportation Cost Efficiency (%)'], axis=1,inplace=True)\n",
    "\n",
    "num_xgb = list(X_xgb.select_dtypes(exclude=\"O\").columns)\n",
    "cat_xgb = list(X_xgb.select_dtypes(include=\"O\").columns)\n",
    "\n",
    "# Model\n",
    "xgb = XGBRegressor(random_state = 42)"
   ]
  },
  {
   "cell_type": "code",
   "execution_count": 15,
   "metadata": {
    "scrolled": true
   },
   "outputs": [
    {
     "name": "stdout",
     "output_type": "stream",
     "text": [
      "Best Parameters for XGBoost: {'learning_rate': 0.1, 'max_depth': 3, 'n_estimators': 300, 'subsample': 0.6}\n",
      "Best Cross-Validation Score for XGBoost: 0.9112\n"
     ]
    }
   ],
   "source": [
    "from sklearn.model_selection import GridSearchCV\n",
    "\n",
    "# Define the parameter grid\n",
    "param_grid_xgb = {\n",
    "    'n_estimators': [100, 200, 300],\n",
    "    'max_depth': [3, 5, 7],\n",
    "    'learning_rate': [0.01, 0.1, 0.2],\n",
    "    'subsample': [0.8, 1.0,0.6]\n",
    "}\n",
    "\n",
    "# Set up GridSearchCV for XGBoost\n",
    "grid_search_xgb = GridSearchCV(estimator=xgb, param_grid=param_grid_xgb, cv=5, scoring='r2')\n",
    "\n",
    "# Fit the model\n",
    "grid_search_xgb.fit(X_xgb, y_xgb)\n",
    "\n",
    "# Get the best parameters and score\n",
    "best_params_xgb = grid_search_xgb.best_params_\n",
    "best_score_xgb = grid_search_xgb.best_score_\n",
    "\n",
    "print(f\"Best Parameters for XGBoost: {best_params_xgb}\")\n",
    "print(f\"Best Cross-Validation Score for XGBoost: {best_score_xgb:.4f}\")"
   ]
  },
  {
   "cell_type": "markdown",
   "metadata": {},
   "source": [
    "### Training"
   ]
  },
  {
   "cell_type": "code",
   "execution_count": 16,
   "metadata": {},
   "outputs": [
    {
     "name": "stdout",
     "output_type": "stream",
     "text": [
      "Fold 1\n",
      "train mean squar error => 0.61659\n",
      "validation mean squar error => 0.64174\n",
      "____________________\n",
      "Fold 2\n",
      "train mean squar error => 0.61630\n",
      "validation mean squar error => 0.63705\n",
      "____________________\n",
      "Fold 3\n",
      "train mean squar error => 0.61783\n",
      "validation mean squar error => 0.63339\n",
      "____________________\n",
      "Fold 4\n",
      "train mean squar error => 0.61894\n",
      "validation mean squar error => 0.61938\n",
      "____________________\n",
      "Fold 5\n",
      "train mean squar error => 0.61767\n",
      "validation mean squar error => 0.63815\n",
      "____________________\n",
      "Fold 6\n",
      "train mean squar error => 0.61911\n",
      "validation mean squar error => 0.63301\n",
      "____________________\n",
      "Fold 7\n",
      "train mean squar error => 0.61499\n",
      "validation mean squar error => 0.65079\n",
      "____________________\n",
      "Mean Train score :0.91384\n",
      "Mean validation score :0.91119\n"
     ]
    }
   ],
   "source": [
    "\n",
    "# Model\n",
    "xgb = grid_search_xgb.best_estimator_\n",
    "\n",
    "\n",
    "# Pipline for the model\n",
    "\n",
    "preprocessor2 = ColumnTransformer(\n",
    "    transformers=[\n",
    "        ('num', MinMaxScaler(),num_xgb),\n",
    "        ('cat', OneHotEncoder(drop='first'),cat_xgb)\n",
    "    ])\n",
    "        \n",
    "        \n",
    "pipeline2 = Pipeline(steps=[(\"preprocessor2\", preprocessor2)\n",
    "                            ,('model',  xgb)])\n",
    "train_scores =[]\n",
    "val_scores = []\n",
    "\n",
    "for fold, (train_index, val_index) in enumerate(kf.split(X_xgb,y_xgb)):\n",
    "\n",
    "    print(f\"Fold {fold +1}\")\n",
    "\n",
    "    X_train , y_train = X.iloc[train_index], y.iloc[train_index]\n",
    "    X_val , y_val = X.iloc[val_index], y.iloc[val_index]\n",
    "\n",
    "    pipeline2.fit(X_train,y_train)\n",
    "\n",
    "    train_pred = pipeline2.predict(X_train)\n",
    "    \n",
    "    train_scores.append(r2_score(y_train, train_pred))\n",
    "    print(f\"train mean squar error => {mean_squared_error(y_train,train_pred):.5f}\")\n",
    "\n",
    "    val_pred = pipeline2.predict(X_val)\n",
    "    val_scores.append(r2_score(y_val, val_pred))\n",
    "\n",
    "    print(f\"validation mean squar error => {mean_squared_error(y_val ,val_pred):.5f}\")\n",
    "    print(\"_\"*20)\n",
    "    \n",
    "print(f\"Mean Train score :{np.mean(train_scores):.5f}\")\n",
    "print(f\"Mean validation score :{np.mean(val_scores):.5f}\")"
   ]
  },
  {
   "cell_type": "markdown",
   "metadata": {},
   "source": [
    "### Evaluate the model"
   ]
  },
  {
   "cell_type": "code",
   "execution_count": 17,
   "metadata": {},
   "outputs": [
    {
     "name": "stdout",
     "output_type": "stream",
     "text": [
      "Test mean squar error => 0.62964\n",
      "Test R2_Score 0.9125669936592448\n"
     ]
    }
   ],
   "source": [
    "X_testxgb = test[selected_features_xgb]\n",
    "y_testxgb = test[Target]\n",
    "\n",
    "xgb_pred = pipeline2.predict(X_testxgb)\n",
    "\n",
    "print(f\"Test mean squar error => {mean_squared_error(y_testxgb,xgb_pred):.5f}\")\n",
    "print(\"Test R2_Score\", r2_score(y_testlr, xgb_pred))"
   ]
  },
  {
   "cell_type": "markdown",
   "metadata": {},
   "source": [
    "### Plot The true vs predicted values"
   ]
  },
  {
   "cell_type": "code",
   "execution_count": 18,
   "metadata": {},
   "outputs": [
    {
     "data": {
      "image/png": "[encoded data removed]",
      "text/plain": [
       "<Figure size 640x480 with 1 Axes>"
      ]
     },
     "metadata": {},
     "output_type": "display_data"
    }
   ],
   "source": [
    "true_values = y_testxgb\n",
    "predicted_values = xgb_pred\n",
    "plt.scatter(true_values, predicted_values, color='blue', label='Predicted vs True')\n",
    "\n",
    "# Add a reference line (y = x) to see how close predictions are to actual values\n",
    "plt.plot([min(true_values), max(true_values)], [min(true_values), max(true_values)], color='red', linestyle='--', label='Perfect Prediction (y=x)')\n",
    "\n",
    "# Add labels and title\n",
    "plt.xlabel('True Values')\n",
    "plt.ylabel('Predicted Values')\n",
    "plt.title('True vs Predicted Values')\n",
    "plt.legend()\n",
    "\n",
    "# Show the plot\n",
    "plt.show()"
   ]
  },
  {
   "cell_type": "markdown",
   "metadata": {},
   "source": [
    "### Save the Xgbost model"
   ]
  },
  {
   "cell_type": "code",
   "execution_count": 21,
   "metadata": {},
   "outputs": [],
   "source": [
    "import pickle\n",
    "# Save the pipeline to a file\n",
    "with open('Xgb_pipeline.pkl', 'wb') as file:\n",
    "    pickle.dump(pipeline2, file)"
   ]
  },
  {
   "cell_type": "code",
   "execution_count": 22,
   "metadata": {},
   "outputs": [],
   "source": [
    "with open('Xgb_pipeline.pkl', 'rb') as file:\n",
    "    Xgboost_model = pickle.load(file)"
   ]
  },
  {
   "cell_type": "code",
   "execution_count": 23,
   "metadata": {},
   "outputs": [],
   "source": [
    "pred = Xgboost_model.predict(X_testxgb)"
   ]
  },
  {
   "cell_type": "code",
   "execution_count": 24,
   "metadata": {},
   "outputs": [
    {
     "data": {
      "image/png": "[encoded data removed]",
      "text/plain": [
       "<Figure size 640x480 with 1 Axes>"
      ]
     },
     "metadata": {},
     "output_type": "display_data"
    }
   ],
   "source": [
    "sns.kdeplot(pred)\n",
    "plt.show()"
   ]
  },
  {
   "cell_type": "code",
   "execution_count": null,
   "metadata": {},
   "outputs": [],
   "source": []
  }
 ],
 "metadata": {
  "kaggle": {
   "accelerator": "none",
   "dataSources": [
    {
     "datasetId": 5081479,
     "sourceId": 9044492,
     "sourceType": "datasetVersion"
    }
   ],
   "dockerImageVersionId": 30746,
   "isGpuEnabled": false,
   "isInternetEnabled": true,
   "language": "python",
   "sourceType": "notebook"
  },
  "kernelspec": {
   "display_name": "Python 3 (ipykernel)",
   "language": "python",
   "name": "python3"
  },
  "language_info": {
   "codemirror_mode": {
    "name": "ipython",
    "version": 3
   },
   "file_extension": ".py",
   "mimetype": "text/x-python",
   "name": "python",
   "nbconvert_exporter": "python",
   "pygments_lexer": "ipython3",
   "version": "3.12.2"
  },
  "toc": {
   "base_numbering": 1,
   "nav_menu": {
    "height": "633px",
    "width": "1083px"
   },
   "number_sections": true,
   "sideBar": false,
   "skip_h1_title": false,
   "title_cell": "Table of Contents",
   "title_sidebar": "Contents",
   "toc_cell": true,
   "toc_position": {},
   "toc_section_display": true,
   "toc_window_display": false
  }
 },
 "nbformat": 4,
 "nbformat_minor": 4
}
